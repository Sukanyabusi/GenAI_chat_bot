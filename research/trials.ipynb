{
 "cells": [
  {
   "cell_type": "code",
   "execution_count": 1,
   "id": "f538729f",
   "metadata": {},
   "outputs": [
    {
     "name": "stdout",
     "output_type": "stream",
     "text": [
      "ok\n"
     ]
    }
   ],
   "source": [
    "print('ok')"
   ]
  },
  {
   "cell_type": "code",
   "execution_count": 1,
   "id": "52467ea6",
   "metadata": {},
   "outputs": [
    {
     "data": {
      "text/plain": [
       "'c:\\\\Users\\\\sukan\\\\OneDrive\\\\Generative_AI\\\\GenAI_chat_bot\\\\research'"
      ]
     },
     "execution_count": 1,
     "metadata": {},
     "output_type": "execute_result"
    }
   ],
   "source": [
    "%pwd"
   ]
  },
  {
   "cell_type": "code",
   "execution_count": 2,
   "id": "097e7965",
   "metadata": {},
   "outputs": [],
   "source": [
    "import os\n",
    "os.chdir('../')"
   ]
  },
  {
   "cell_type": "code",
   "execution_count": 3,
   "id": "71f2b7fc",
   "metadata": {},
   "outputs": [
    {
     "data": {
      "text/plain": [
       "'c:\\\\Users\\\\sukan\\\\OneDrive\\\\Generative_AI\\\\GenAI_chat_bot'"
      ]
     },
     "execution_count": 3,
     "metadata": {},
     "output_type": "execute_result"
    }
   ],
   "source": [
    "%pwd"
   ]
  },
  {
   "cell_type": "code",
   "execution_count": 4,
   "id": "01b7e974",
   "metadata": {},
   "outputs": [],
   "source": [
    "from langchain.document_loaders import  PyPDFLoader,DirectoryLoader\n",
    "from langchain.text_splitter import RecursiveCharacterTextSplitter"
   ]
  },
  {
   "cell_type": "code",
   "execution_count": 5,
   "id": "911fadd0",
   "metadata": {},
   "outputs": [],
   "source": [
    "def load_pdf_data(data):\n",
    "    loader=DirectoryLoader(data,glob='*.pdf',loader_cls=PyPDFLoader)\n",
    "    documents=loader.load()\n",
    "    return documents"
   ]
  },
  {
   "cell_type": "code",
   "execution_count": 6,
   "id": "dc9f0fce",
   "metadata": {},
   "outputs": [
    {
     "data": {
      "text/plain": [
       "'c:\\\\Users\\\\sukan\\\\OneDrive\\\\Generative_AI\\\\GenAI_chat_bot'"
      ]
     },
     "execution_count": 6,
     "metadata": {},
     "output_type": "execute_result"
    }
   ],
   "source": [
    "%pwd"
   ]
  },
  {
   "cell_type": "code",
   "execution_count": 7,
   "id": "8532eb6a",
   "metadata": {},
   "outputs": [],
   "source": [
    "extracted_data=load_pdf_data(data='Data/')"
   ]
  },
  {
   "cell_type": "code",
   "execution_count": 8,
   "id": "60621832",
   "metadata": {},
   "outputs": [],
   "source": [
    "# extracted_data\n",
    "def text_split(extracted_data):\n",
    "    text_spliter=RecursiveCharacterTextSplitter(chunk_size=500,chunk_overlap=20)\n",
    "    text_chunks=text_spliter.split_documents(extracted_data)\n",
    "    return text_chunks"
   ]
  },
  {
   "cell_type": "code",
   "execution_count": 9,
   "id": "599e69b9",
   "metadata": {},
   "outputs": [
    {
     "name": "stdout",
     "output_type": "stream",
     "text": [
      "length of chunks 5699\n"
     ]
    }
   ],
   "source": [
    "text_chunks=text_split(extracted_data)\n",
    "print('length of chunks',len(text_chunks))"
   ]
  },
  {
   "cell_type": "code",
   "execution_count": 10,
   "id": "7a657d8f",
   "metadata": {},
   "outputs": [],
   "source": [
    "from langchain.embeddings import HuggingFaceBgeEmbeddings"
   ]
  },
  {
   "cell_type": "code",
   "execution_count": 11,
   "id": "846794ec",
   "metadata": {},
   "outputs": [],
   "source": [
    "def download_hugging_face_embeddings():\n",
    "    embeddngs=HuggingFaceBgeEmbeddings(model_name='sentence-transformers/all-MiniLM-L6-v2')\n",
    "    return embeddngs"
   ]
  },
  {
   "cell_type": "code",
   "execution_count": 12,
   "id": "3a5b03e2",
   "metadata": {},
   "outputs": [
    {
     "name": "stderr",
     "output_type": "stream",
     "text": [
      "C:\\Users\\sukan\\AppData\\Local\\Temp\\ipykernel_12400\\339533115.py:2: LangChainDeprecationWarning: The class `HuggingFaceBgeEmbeddings` was deprecated in LangChain 0.2.2 and will be removed in 1.0. An updated version of the class exists in the :class:`~langchain-huggingface package and should be used instead. To use it run `pip install -U :class:`~langchain-huggingface` and import as `from :class:`~langchain_huggingface import HuggingFaceEmbeddings``.\n",
      "  embeddngs=HuggingFaceBgeEmbeddings(model_name='sentence-transformers/all-MiniLM-L6-v2')\n",
      "c:\\Users\\sukan\\OneDrive\\Generative_AI\\GenAI_chat_bot\\.venv\\Lib\\site-packages\\tqdm\\auto.py:21: TqdmWarning: IProgress not found. Please update jupyter and ipywidgets. See https://ipywidgets.readthedocs.io/en/stable/user_install.html\n",
      "  from .autonotebook import tqdm as notebook_tqdm\n"
     ]
    }
   ],
   "source": [
    "embeddngs=download_hugging_face_embeddings()"
   ]
  },
  {
   "cell_type": "code",
   "execution_count": 13,
   "id": "1cbd2492",
   "metadata": {},
   "outputs": [
    {
     "name": "stdout",
     "output_type": "stream",
     "text": [
      "client=SentenceTransformer(\n",
      "  (0): Transformer({'max_seq_length': 256, 'do_lower_case': False}) with Transformer model: BertModel \n",
      "  (1): Pooling({'word_embedding_dimension': 384, 'pooling_mode_cls_token': False, 'pooling_mode_mean_tokens': True, 'pooling_mode_max_tokens': False, 'pooling_mode_mean_sqrt_len_tokens': False, 'pooling_mode_weightedmean_tokens': False, 'pooling_mode_lasttoken': False, 'include_prompt': True})\n",
      "  (2): Normalize()\n",
      ") model_name='sentence-transformers/all-MiniLM-L6-v2' cache_folder=None model_kwargs={} encode_kwargs={} query_instruction='Represent this question for searching relevant passages: ' embed_instruction='' show_progress=False\n"
     ]
    }
   ],
   "source": [
    "print(embeddngs)"
   ]
  },
  {
   "cell_type": "code",
   "execution_count": 14,
   "id": "344a6c19",
   "metadata": {},
   "outputs": [
    {
     "name": "stdout",
     "output_type": "stream",
     "text": [
      "length of results 384\n"
     ]
    }
   ],
   "source": [
    "results=embeddngs.embed_query('Hello world')\n",
    "print('length of results',len(results))"
   ]
  },
  {
   "cell_type": "code",
   "execution_count": 15,
   "id": "e2a79ba0",
   "metadata": {},
   "outputs": [
    {
     "data": {
      "text/plain": [
       "[-0.010300828143954277,\n",
       " 0.18307934701442719,\n",
       " 0.030811281874775887,\n",
       " 0.004452868364751339,\n",
       " -0.027336159721016884,\n",
       " -0.0335625596344471,\n",
       " 0.03763158619403839,\n",
       " -0.03157338127493858,\n",
       " -0.0033909634221345186,\n",
       " -0.008950830437242985,\n",
       " 0.03803609684109688,\n",
       " -0.051291048526763916,\n",
       " 0.00036826470750384033,\n",
       " -0.02372710593044758,\n",
       " 0.09271029382944107,\n",
       " -0.02779584378004074,\n",
       " -0.03515247628092766,\n",
       " -0.0032241714652627707,\n",
       " -0.0768178328871727,\n",
       " -0.057612095028162,\n",
       " 0.07257598638534546,\n",
       " 0.11128553748130798,\n",
       " 0.01605852320790291,\n",
       " 0.01590849459171295,\n",
       " -0.0823269784450531,\n",
       " 0.007007323205471039,\n",
       " 0.029013115912675858,\n",
       " 0.0011386671103537083,\n",
       " 0.11671741306781769,\n",
       " -0.032327406108379364,\n",
       " -0.03227165341377258,\n",
       " -0.0012590623227879405,\n",
       " 0.10591620206832886,\n",
       " 0.023600773885846138,\n",
       " 0.00966486893594265,\n",
       " 0.09834077209234238,\n",
       " 0.04293639212846756,\n",
       " -0.019547687843441963,\n",
       " 0.01926792599260807,\n",
       " -0.06417104601860046,\n",
       " 0.023923387750983238,\n",
       " -0.05287997052073479,\n",
       " -0.026469580829143524,\n",
       " 0.005548726301640272,\n",
       " -0.017025155946612358,\n",
       " -0.030232694000005722,\n",
       " -0.09035330265760422,\n",
       " 0.05418829619884491,\n",
       " 0.03278333321213722,\n",
       " -0.03849181532859802,\n",
       " -0.162909597158432,\n",
       " -0.05710043013095856,\n",
       " -0.06604952365159988,\n",
       " -0.014481707476079464,\n",
       " 0.04974615201354027,\n",
       " -0.010199271142482758,\n",
       " -0.06685128062963486,\n",
       " -0.0010847010416910052,\n",
       " 0.028305668383836746,\n",
       " -0.02152019552886486,\n",
       " -0.03531772270798683,\n",
       " 0.02593115158379078,\n",
       " -0.019714996218681335,\n",
       " 0.06278971582651138,\n",
       " 0.09176412969827652,\n",
       " -0.10229230672121048,\n",
       " 0.037035297602415085,\n",
       " 0.020544376224279404,\n",
       " -0.07321780174970627,\n",
       " -0.038438647985458374,\n",
       " -0.10208166390657425,\n",
       " -0.02137269452214241,\n",
       " -0.04500987380743027,\n",
       " -0.018804127350449562,\n",
       " -0.1357780247926712,\n",
       " -0.03678477182984352,\n",
       " -0.03485994040966034,\n",
       " -0.03833599016070366,\n",
       " -0.016518980264663696,\n",
       " -0.031229278072714806,\n",
       " 0.06781847029924393,\n",
       " 0.020737281069159508,\n",
       " 0.01197200920432806,\n",
       " 0.07180444896221161,\n",
       " -0.004278035834431648,\n",
       " 0.024945449084043503,\n",
       " 0.016519028693437576,\n",
       " -0.06834036856889725,\n",
       " 0.04903170093894005,\n",
       " -0.006629312876611948,\n",
       " -0.07006290555000305,\n",
       " -0.09807820618152618,\n",
       " 0.03884943947196007,\n",
       " 0.011759653687477112,\n",
       " -0.01046568714082241,\n",
       " 0.051744960248470306,\n",
       " 0.04994411766529083,\n",
       " 0.021490372717380524,\n",
       " 0.022078217938542366,\n",
       " 0.11860286444425583,\n",
       " 0.08999451994895935,\n",
       " 0.033944021910429,\n",
       " 0.08883441239595413,\n",
       " 0.0223223976790905,\n",
       " -0.022454025223851204,\n",
       " 0.011377054266631603,\n",
       " -0.1012946218252182,\n",
       " 0.06914228200912476,\n",
       " 0.014844415709376335,\n",
       " -0.04821132495999336,\n",
       " -0.09350986778736115,\n",
       " -0.05377848073840141,\n",
       " -0.03811458498239517,\n",
       " -0.10190246999263763,\n",
       " 0.0409022755920887,\n",
       " -0.0683363825082779,\n",
       " 0.022506924346089363,\n",
       " 0.015452061779797077,\n",
       " -0.020080437883734703,\n",
       " 0.03599824383854866,\n",
       " -0.024194901809096336,\n",
       " -0.008909287862479687,\n",
       " -0.007181977387517691,\n",
       " 0.03651844337582588,\n",
       " -0.0350838266313076,\n",
       " -0.017105279490351677,\n",
       " -0.020168865099549294,\n",
       " -2.2842650708980096e-33,\n",
       " 0.09506476670503616,\n",
       " 0.006659897044301033,\n",
       " 0.021885201334953308,\n",
       " 0.09388475120067596,\n",
       " -0.03544982522726059,\n",
       " -0.003322167554870248,\n",
       " -0.0445033423602581,\n",
       " 0.042568277567625046,\n",
       " 0.029856620356440544,\n",
       " -0.013110704720020294,\n",
       " 0.007181541528552771,\n",
       " 0.02030731551349163,\n",
       " 0.0015097711002454162,\n",
       " 0.028463874012231827,\n",
       " -0.05009445548057556,\n",
       " -0.03787587583065033,\n",
       " -0.06964102387428284,\n",
       " 0.019164973869919777,\n",
       " -0.06952053308486938,\n",
       " 0.07272638380527496,\n",
       " -0.014777925796806812,\n",
       " -0.01587272807955742,\n",
       " 0.001389209763146937,\n",
       " 0.02643933705985546,\n",
       " 0.060565341264009476,\n",
       " 0.005688167642802,\n",
       " 0.011080429889261723,\n",
       " -0.08853626251220703,\n",
       " 0.02512177638709545,\n",
       " 0.021633941680192947,\n",
       " 0.03881044313311577,\n",
       " -0.04513133317232132,\n",
       " -0.04619193077087402,\n",
       " -0.04280669242143631,\n",
       " 0.06965948641300201,\n",
       " 0.09090013056993484,\n",
       " -0.013691027648746967,\n",
       " -0.08157449215650558,\n",
       " -0.06711918115615845,\n",
       " -0.05557240545749664,\n",
       " -0.04676034674048424,\n",
       " 0.03963346779346466,\n",
       " 0.07059674710035324,\n",
       " 0.005815898533910513,\n",
       " 0.0306859090924263,\n",
       " 0.027975892648100853,\n",
       " -0.0554359070956707,\n",
       " 0.005270824767649174,\n",
       " -0.0005426232819445431,\n",
       " 0.08524654060602188,\n",
       " -0.02038854919373989,\n",
       " 0.07555057108402252,\n",
       " -0.09101549535989761,\n",
       " -0.028498027473688126,\n",
       " 0.05228206515312195,\n",
       " 0.04848279803991318,\n",
       " -0.028915297240018845,\n",
       " 0.06852041929960251,\n",
       " -0.04392695426940918,\n",
       " 0.07083986699581146,\n",
       " -0.009455112740397453,\n",
       " 0.008037131279706955,\n",
       " 0.04271792247891426,\n",
       " 0.052016496658325195,\n",
       " -0.03763122484087944,\n",
       " -0.019753597676753998,\n",
       " -0.026938632130622864,\n",
       " -0.02277461253106594,\n",
       " 0.04505630210042,\n",
       " 0.0026521661784499884,\n",
       " -0.03637436777353287,\n",
       " -0.0016246801242232323,\n",
       " -0.009545079432427883,\n",
       " 0.08428993821144104,\n",
       " -0.03316548466682434,\n",
       " -0.004807275719940662,\n",
       " 0.005520856939256191,\n",
       " -0.04377122223377228,\n",
       " -0.007754727732390165,\n",
       " -0.06770297139883041,\n",
       " -0.0062479483895003796,\n",
       " 0.008232740685343742,\n",
       " 0.029952440410852432,\n",
       " 0.05353197455406189,\n",
       " 0.073793925344944,\n",
       " -0.07401296496391296,\n",
       " 0.04543817788362503,\n",
       " -0.1214526891708374,\n",
       " 0.006786947604268789,\n",
       " 0.023229053243994713,\n",
       " -0.025053473189473152,\n",
       " 0.07052105665206909,\n",
       " -0.002563514979556203,\n",
       " -0.10330292582511902,\n",
       " -0.06143468990921974,\n",
       " -4.554198879716891e-35,\n",
       " 0.09373199939727783,\n",
       " 0.016521820798516273,\n",
       " -0.0512855239212513,\n",
       " -0.0075630908831954,\n",
       " -0.05882909521460533,\n",
       " -0.010721024125814438,\n",
       " -0.038854729384183884,\n",
       " 0.06002233922481537,\n",
       " 0.005357773974537849,\n",
       " 0.08408879488706589,\n",
       " -0.011622569523751736,\n",
       " 0.010504471138119698,\n",
       " 0.13890965282917023,\n",
       " -0.01399275939911604,\n",
       " -0.07269315421581268,\n",
       " -0.047016844153404236,\n",
       " 0.10752875357866287,\n",
       " -0.003004299709573388,\n",
       " 0.010074496269226074,\n",
       " 0.0656028687953949,\n",
       " 0.0039940038695931435,\n",
       " 0.010955613106489182,\n",
       " -0.09632877260446548,\n",
       " -0.02518204227089882,\n",
       " 0.015337633900344372,\n",
       " 0.0705656036734581,\n",
       " 0.08489104360342026,\n",
       " -0.025677883997559547,\n",
       " -0.07766710966825485,\n",
       " 0.008598143234848976,\n",
       " 0.009575256146490574,\n",
       " 0.007218664977699518,\n",
       " -0.09409839659929276,\n",
       " 0.04147094115614891,\n",
       " -0.045654863119125366,\n",
       " -0.007441770751029253,\n",
       " 0.01458264235407114,\n",
       " 0.006933528929948807,\n",
       " 0.0029329515527933836,\n",
       " -0.05206773430109024,\n",
       " 0.002741103759035468,\n",
       " 0.021477961912751198,\n",
       " 0.011189451441168785,\n",
       " 0.06323127448558807,\n",
       " -0.08215910196304321,\n",
       " -0.005954020190984011,\n",
       " -0.026612360030412674,\n",
       " 0.06312452256679535,\n",
       " -0.009564986452460289,\n",
       " -0.028025835752487183,\n",
       " -0.0372774712741375,\n",
       " -0.031910646706819534,\n",
       " 0.04313572123646736,\n",
       " -0.08780165016651154,\n",
       " -0.05951865389943123,\n",
       " -0.02280803769826889,\n",
       " -0.06337311118841171,\n",
       " -0.04372796416282654,\n",
       " 0.026400744915008545,\n",
       " -0.031030554324388504,\n",
       " 0.0048546758480370045,\n",
       " 0.03686690330505371,\n",
       " 0.0022788948845118284,\n",
       " 0.05558506399393082,\n",
       " 0.022131633013486862,\n",
       " -0.07549655437469482,\n",
       " 0.009231286123394966,\n",
       " 0.07583913952112198,\n",
       " 0.02118176594376564,\n",
       " -0.08696752786636353,\n",
       " -0.009340792894363403,\n",
       " -0.07346439361572266,\n",
       " -0.04060369357466698,\n",
       " -0.016280846670269966,\n",
       " -0.014284416101872921,\n",
       " 0.053436268121004105,\n",
       " 0.03642675280570984,\n",
       " -0.06934589892625809,\n",
       " -0.026062877848744392,\n",
       " 0.044529203325510025,\n",
       " 0.03905075043439865,\n",
       " 0.0022511694114655256,\n",
       " -0.053449418395757675,\n",
       " 0.019616782665252686,\n",
       " 0.03297467157244682,\n",
       " -0.017909862101078033,\n",
       " -0.004217422101646662,\n",
       " 0.054069891571998596,\n",
       " 0.025197969749569893,\n",
       " 0.02336161397397518,\n",
       " -0.045137226581573486,\n",
       " 0.015319752506911755,\n",
       " -0.0609021857380867,\n",
       " -0.010311364196240902,\n",
       " 0.0050230566412210464,\n",
       " -2.2991843096065168e-08,\n",
       " -0.07419111579656601,\n",
       " 0.02353009581565857,\n",
       " -0.03804849833250046,\n",
       " 0.03680162504315376,\n",
       " 0.03640655055642128,\n",
       " 0.0384778156876564,\n",
       " 0.05947576463222504,\n",
       " -0.03988247737288475,\n",
       " -0.0797484889626503,\n",
       " 0.025002343580126762,\n",
       " 0.03533365949988365,\n",
       " 0.08019216358661652,\n",
       " -0.058206770569086075,\n",
       " -0.024035679176449776,\n",
       " 0.0684947520494461,\n",
       " 0.06681933254003525,\n",
       " -0.00875758845359087,\n",
       " -0.06276898086071014,\n",
       " -0.06686682999134064,\n",
       " 0.0013596906792372465,\n",
       " 0.07438530027866364,\n",
       " 0.0626690536737442,\n",
       " -0.022049101069569588,\n",
       " 0.015178726986050606,\n",
       " -0.042466048151254654,\n",
       " 0.04371555149555206,\n",
       " -0.0029683492612093687,\n",
       " 0.03230782598257065,\n",
       " -0.07244183868169785,\n",
       " -0.008453141897916794,\n",
       " 0.02477758191525936,\n",
       " 0.10374245792627335,\n",
       " -0.08862141519784927,\n",
       " 0.007805482484400272,\n",
       " -0.040527213364839554,\n",
       " 0.0046876403503119946,\n",
       " -0.08092756569385529,\n",
       " 0.0018340953392907977,\n",
       " 0.05058392882347107,\n",
       " -0.05548536032438278,\n",
       " 0.006174083799123764,\n",
       " 0.08420970290899277,\n",
       " 0.011475893668830395,\n",
       " -0.0007286479813046753,\n",
       " 0.03322434425354004,\n",
       " 0.015147870406508446,\n",
       " 0.01519983820617199,\n",
       " 0.009150347672402859,\n",
       " -0.0439164862036705,\n",
       " -0.05456814542412758,\n",
       " -0.08241591602563858,\n",
       " -0.0029428070411086082,\n",
       " 0.0594046488404274,\n",
       " -0.0029331555124372244,\n",
       " 0.022356044501066208,\n",
       " 0.05346657708287239,\n",
       " 0.024953125044703484,\n",
       " 0.051510199904441833,\n",
       " -0.01908138394355774,\n",
       " 0.02093012072145939,\n",
       " 0.1539037525653839,\n",
       " 0.039949942380189896,\n",
       " 0.027571920305490494,\n",
       " -0.027968252077698708]"
      ]
     },
     "execution_count": 15,
     "metadata": {},
     "output_type": "execute_result"
    }
   ],
   "source": [
    "results"
   ]
  },
  {
   "cell_type": "code",
   "execution_count": 92,
   "id": "3fbb29dc",
   "metadata": {},
   "outputs": [
    {
     "data": {
      "text/plain": [
       "True"
      ]
     },
     "execution_count": 92,
     "metadata": {},
     "output_type": "execute_result"
    }
   ],
   "source": [
    "from dotenv import load_dotenv\n",
    "load_dotenv()"
   ]
  },
  {
   "cell_type": "code",
   "execution_count": 93,
   "id": "ca494a72",
   "metadata": {},
   "outputs": [],
   "source": [
    "PINECONE_API_KEY=os.environ.get('PINE_CONE_API_KEY')\n",
    "OPENAI_API_KEY=os.environ.get('OPENAI_API_KEY')\n",
    "Groq_API_KEY=os.environ.get('Groq_API_KEY')"
   ]
  },
  {
   "cell_type": "code",
   "execution_count": 46,
   "id": "e47d1ccf",
   "metadata": {},
   "outputs": [],
   "source": [
    "# from pinecone.grpc import PineconeGRPC as Pinecone\n",
    "from pinecone import Pinecone, ServerlessSpec\n",
    "import os\n",
    "pc = Pinecone(api_key=PINECONE_API_KEY)"
   ]
  },
  {
   "cell_type": "code",
   "execution_count": 56,
   "id": "8a5b6964",
   "metadata": {},
   "outputs": [
    {
     "data": {
      "text/plain": [
       "{\n",
       "    \"name\": \"medicalchatbot2\",\n",
       "    \"metric\": \"cosine\",\n",
       "    \"host\": \"medicalchatbot2-m0n4dbo.svc.aped-4627-b74a.pinecone.io\",\n",
       "    \"spec\": {\n",
       "        \"serverless\": {\n",
       "            \"cloud\": \"aws\",\n",
       "            \"region\": \"us-east-1\"\n",
       "        }\n",
       "    },\n",
       "    \"status\": {\n",
       "        \"ready\": true,\n",
       "        \"state\": \"Ready\"\n",
       "    },\n",
       "    \"vector_type\": \"dense\",\n",
       "    \"dimension\": 384,\n",
       "    \"deletion_protection\": \"disabled\",\n",
       "    \"tags\": null\n",
       "}"
      ]
     },
     "execution_count": 56,
     "metadata": {},
     "output_type": "execute_result"
    }
   ],
   "source": [
    "index_name = \"medicalchatbot2\"\n",
    "pc.create_index(\n",
    "    name=index_name,\n",
    "    dimension=384,\n",
    "    metric=\"cosine\",\n",
    "    spec=ServerlessSpec(cloud=\"aws\", region=\"us-east-1\")\n",
    ")\n",
    "# pc.create_index_for_model(\n",
    "#     name=index_name,\n",
    "#     dimension=384,\n",
    "#     metric='cosine',\n",
    "#     spec=ServerlessSpec(cloud='aws',\n",
    "#                         region='us-east-1')\n",
    "# )\n",
    "\n",
    "# if not pc.has_index(index_name):\n",
    "#     pc.create_index_for_model(\n",
    "#         name=index_name,\n",
    "#         cloud=\"aws\",\n",
    "#         region=\"us-east-1\",\n",
    "#         embed={\n",
    "#             \"model\":\"llama-text-embed-v2\",\n",
    "#             \"field_map\":{\"text\": \"chunk_text\"}\n",
    "#         }\n",
    "#     )"
   ]
  },
  {
   "cell_type": "code",
   "execution_count": 94,
   "id": "d9439b58",
   "metadata": {},
   "outputs": [],
   "source": [
    "import os\n",
    "os.environ['PINECONE_API_KEY']=PINECONE_API_KEY\n",
    "os.environ['OPENAI_API_KEY']=OPENAI_API_KEY\n",
    "os.environ['Groq_API_KEY']=Groq_API_KEY\n",
    "\n",
    "\n",
    "# Groq_API_KEY=os.environ.get('Groq_API_KEY')"
   ]
  },
  {
   "cell_type": "code",
   "execution_count": 58,
   "id": "aad06941",
   "metadata": {},
   "outputs": [],
   "source": [
    "from langchain_pinecone import PineconeVectorStore\n",
    "doc_search=PineconeVectorStore.from_documents(\n",
    "    documents=text_chunks,\n",
    "    index_name=index_name,\n",
    "    embedding=embeddngs\n",
    "    \n",
    "\n",
    ")"
   ]
  },
  {
   "cell_type": "code",
   "execution_count": 59,
   "id": "ef30b42c",
   "metadata": {},
   "outputs": [],
   "source": [
    "from langchain_pinecone import PineconeVectorStore\n",
    "docsearch=PineconeVectorStore.from_existing_index(\n",
    "    # documents=text_chunks,\n",
    "    index_name=index_name,\n",
    "    embedding=embeddngs)"
   ]
  },
  {
   "cell_type": "code",
   "execution_count": 60,
   "id": "ed9d25db",
   "metadata": {},
   "outputs": [
    {
     "data": {
      "text/plain": [
       "<langchain_pinecone.vectorstores.PineconeVectorStore at 0x1ecac208910>"
      ]
     },
     "execution_count": 60,
     "metadata": {},
     "output_type": "execute_result"
    }
   ],
   "source": [
    "docsearch"
   ]
  },
  {
   "cell_type": "code",
   "execution_count": 61,
   "id": "977ded5d",
   "metadata": {},
   "outputs": [],
   "source": [
    "retriever=docsearch.as_retriever(search_type='similarity',search_kwars={\"k\":3})"
   ]
  },
  {
   "cell_type": "code",
   "execution_count": 76,
   "id": "d134b0e1",
   "metadata": {},
   "outputs": [],
   "source": [
    "retrieved_docs=retriever.invoke('what is Acne')"
   ]
  },
  {
   "cell_type": "code",
   "execution_count": 77,
   "id": "84eaecc6",
   "metadata": {},
   "outputs": [
    {
     "data": {
      "text/plain": [
       "[Document(id='45bbfbb5-4133-4880-b373-cf0f9c1cdfb2', metadata={'author': 'Clifford', 'creationdate': '2004-12-28T15:38:25-05:00', 'creator': 'PyPDF', 'enhanced': 'By PDF Enhancer 2.5/Win', 'moddate': '2005-05-04T13:53:15-06:00', 'page': 4.0, 'page_label': '5', 'producer': 'PDFlib+PDI 5.0.0 (SunOS)', 'source': 'Data\\\\Medical_book.pdf', 'spdf': '1096', 'total_pages': 599.0}, page_content='A\\nAbscess\\nAcidophilus\\nAcne\\nAconite\\nAcupressure\\nAcupuncture\\nAdemetionine\\nAdie’s pupil\\nAfrican pygeum\\nAgastache\\nAging\\nAIDS\\nAlcoholism\\nAlexander technique\\nAlfalfa\\nAlisma\\nAllergies\\nAllium cepa\\nAloe\\nAlpha-hydroxy\\nAlzheimer’s disease\\nAmino acids\\nAndrographis\\nAndrostenedione\\nAnemarrhena\\nAnemia\\nAngelica root\\nAngina\\nAnise\\nAnkylosing spondylitis\\nAnorexia nervosa\\nAnthroposophical medicine\\nAntioxidants\\nAnxiety\\nBates method\\nBayberry\\nBedsores\\nBedwetting\\nBee pollen\\nBehavioral optometry\\nBehavioral therapy'),\n",
       " Document(id='fb813229-3209-4d4a-9331-31840c33144d', metadata={'author': 'Clifford', 'creationdate': '2004-12-28T15:38:25-05:00', 'creator': 'PyPDF', 'enhanced': 'By PDF Enhancer 2.5/Win', 'moddate': '2005-05-04T13:53:15-06:00', 'page': 96.0, 'page_label': '97', 'producer': 'PDFlib+PDI 5.0.0 (SunOS)', 'source': 'Data\\\\Medical_book.pdf', 'spdf': '1096', 'total_pages': 599.0}, page_content='GALE ENCYCLOPEDIA OF AL TERNATIVE MEDICINE 2 667\\nEczema\\nA close-up view of atopic dermatitis in the crook of the\\nelbow of a 12-year-old patient. This condition commonly oc-\\ncurs in childhood. (Custom Medical Stock Photo. Reproduced\\nby permission.)\\nW eed, Susun S. Wise W oman W ays, Menopausal Y ears.New\\nY ork: Ash Tree Publishing, 1992.\\nPERIODICALS\\nDeneen, Sally and Tracey C. Rembert. “Stalking Medicinal\\nPlants, An International Trade Imperils Wild Herbs. ” E\\nMagazine (July/August 1999).'),\n",
       " Document(id='d5774fb0-6d36-44a9-b9e6-43b42a9a15fd', metadata={'author': 'Clifford', 'creationdate': '2004-12-28T15:38:25-05:00', 'creator': 'PyPDF', 'enhanced': 'By PDF Enhancer 2.5/Win', 'moddate': '2005-05-04T13:53:15-06:00', 'page': 542.0, 'page_label': '543', 'producer': 'PDFlib+PDI 5.0.0 (SunOS)', 'source': 'Data\\\\Medical_book.pdf', 'spdf': '1096', 'total_pages': 599.0}, page_content='ORGANIZATIONS\\nAmerican Academy of Dermatology . 930 N. Meacham Rd., PO\\nBox 4014, Schaumburg, IL 60168. (708) 330-0230.\\nBelinda Rowland\\nRebecca J. Frey , PhD\\nGALE ENCYCLOPEDIA OF AL TERNATIVE MEDICINE 21114\\nItching\\nKEY TERMS\\n . . . . . . . . . . . . . . . . . . . . . . . . . . . . . . . . . . . . . . . . .\\nAtopic dermatitis —An intensely itchy inflamma-\\ntion often found on the face of people prone to al-\\nlergies. In infants and early childhood, it’ s called\\ninfantile eczema.'),\n",
       " Document(id='c959a8b6-2ff1-4be2-877f-50c4b320a94c', metadata={'author': 'Clifford', 'creationdate': '2004-12-28T15:38:25-05:00', 'creator': 'PyPDF', 'enhanced': 'By PDF Enhancer 2.5/Win', 'moddate': '2005-05-04T13:53:15-06:00', 'page': 99.0, 'page_label': '100', 'producer': 'PDFlib+PDI 5.0.0 (SunOS)', 'source': 'Data\\\\Medical_book.pdf', 'spdf': '1096', 'total_pages': 599.0}, page_content='Atopy —A group of diseases, including eczema,\\nthat develop in people with an inherited tendency\\nto develop immediate antibodies to common en-\\nvironmental allergens.\\nCorticosteroids —A group of synthetic hormones\\nthat are used to prevent or reduce inflammation.\\nT oxic effects may result from rapid withdrawal\\nafter prolonged use or from continued use of large\\ndoses.\\nDermatitis —An irritation or imflammation of the\\nskin.\\nNummular dermatitis —A skin infection in which')]"
      ]
     },
     "execution_count": 77,
     "metadata": {},
     "output_type": "execute_result"
    }
   ],
   "source": [
    "retrieved_docs"
   ]
  },
  {
   "cell_type": "code",
   "execution_count": 95,
   "id": "284fd195",
   "metadata": {},
   "outputs": [],
   "source": [
    "# from langchain_openai import OpenAI\n",
    "# llm=OpenAI(temperature=0.4,max_tokens=500)\n",
    "from langchain_groq import ChatGroq\n",
    "\n",
    "llm = ChatGroq(\n",
    "    temperature=0.4,\n",
    "    max_tokens=500,\n",
    "    model_name=\"llama3-70b-8192\"  # or another supported Groq model\n",
    ")\n"
   ]
  },
  {
   "cell_type": "code",
   "execution_count": 96,
   "id": "fe5623e9",
   "metadata": {},
   "outputs": [],
   "source": [
    "from langchain.chains import create_retrieval_chain\n",
    "from langchain.chains.combine_documents import create_stuff_documents_chain\n",
    "from langchain_core.prompts import ChatPromptTemplate\n"
   ]
  },
  {
   "cell_type": "code",
   "execution_count": 97,
   "id": "7e720583",
   "metadata": {},
   "outputs": [],
   "source": [
    "system_prompt = (\n",
    "    \"You are an assistant for question-answering tasks. \"\n",
    "    \"Use the following pieces of retrieved context to answer \"\n",
    "    \"the question. If you don't know the answer, say that you \"\n",
    "    \"don't know. Use three sentences maximum and keep the \"\n",
    "    \"answer concise.\"\n",
    "    \"\\n\\n\"\n",
    "    \"{context}\"\n",
    ")"
   ]
  },
  {
   "cell_type": "code",
   "execution_count": 98,
   "id": "13a8d437",
   "metadata": {},
   "outputs": [],
   "source": [
    "prompt=ChatPromptTemplate.from_messages([\n",
    "    ('system',system_prompt),\n",
    "    ('human',\"{input}\")\n",
    "])"
   ]
  },
  {
   "cell_type": "code",
   "execution_count": 99,
   "id": "84cb09c4",
   "metadata": {},
   "outputs": [],
   "source": [
    "question_answer_chain = create_stuff_documents_chain(llm, prompt)\n",
    "rag_chain = create_retrieval_chain(retriever, question_answer_chain)"
   ]
  },
  {
   "cell_type": "code",
   "execution_count": 106,
   "id": "a3964b10",
   "metadata": {},
   "outputs": [
    {
     "name": "stdout",
     "output_type": "stream",
     "text": [
      "Diabetes mellitus is a chronic disease that causes serious health complications, including renal failure, heart disease, stroke, and blindness. It occurs when the body's cells stop responding to insulin, preventing glucose in the blood from being absorbed into the cells. This leads to symptoms such as frequent urination, tiredness, excessive thirst, and hunger.\n"
     ]
    }
   ],
   "source": [
    "response=rag_chain.invoke({\"input\":\"what is Diabetes mellitus?\"})\n",
    "print(response[\"answer\"])"
   ]
  },
  {
   "cell_type": "code",
   "execution_count": null,
   "id": "cc25b0ba",
   "metadata": {},
   "outputs": [],
   "source": []
  }
 ],
 "metadata": {
  "kernelspec": {
   "display_name": ".venv",
   "language": "python",
   "name": "python3"
  },
  "language_info": {
   "codemirror_mode": {
    "name": "ipython",
    "version": 3
   },
   "file_extension": ".py",
   "mimetype": "text/x-python",
   "name": "python",
   "nbconvert_exporter": "python",
   "pygments_lexer": "ipython3",
   "version": "3.13.4"
  }
 },
 "nbformat": 4,
 "nbformat_minor": 5
}
